{
  "nbformat": 4,
  "nbformat_minor": 0,
  "metadata": {
    "colab": {
      "provenance": []
    },
    "kernelspec": {
      "name": "python3",
      "display_name": "Python 3"
    },
    "language_info": {
      "name": "python"
    }
  },
  "cells": [
    {
      "cell_type": "markdown",
      "source": [
        "# Binominal Option Pricing Model\n",
        "\n",
        "Implementation of a simple slow and fast binominal pricing model. We treat the binominal tree as a network with nodes (i,j), with i representing time steps and j representing the number of ordered price outcome.\n",
        "\n",
        "This project focuses on **European Pricing call**."
      ],
      "metadata": {
        "id": "fxaz1Ud4Dyw5"
      }
    },
    {
      "cell_type": "code",
      "execution_count": 1,
      "metadata": {
        "id": "AQWgKuw9Dx6n"
      },
      "outputs": [],
      "source": [
        "import numpy as np\n",
        "import pandas as pd\n",
        "import matplotlib.pyplot as plt\n",
        "from functools import wraps\n",
        "from time import time"
      ]
    },
    {
      "cell_type": "markdown",
      "source": [
        "## Binominal Tree Representation\n",
        "\n",
        "Stock Tree can be represented using nodes (i,j) and initial stock price $S_0$\n",
        "\n",
        "$C_{i,j}$ represents contract price at each node (i,j). Where $C_{N_{j}}$ represents final payoff function that we can define."
      ],
      "metadata": {
        "id": "XfvAEAt1Ff7j"
      }
    },
    {
      "cell_type": "code",
      "source": [
        "# Parameters for the tree\n",
        "S0 = 100 # Initial stock price\n",
        "K = 100 # Strike price\n",
        "T = 1 # Time to maturity in years\n",
        "r = 0.06 # Annual risk-free rate\n",
        "N = 3 # Number of time steps\n",
        "u = 1.1 # Up factor in binominal models\n",
        "d = 1/u # Down factor\n",
        "opttype = 'C'"
      ],
      "metadata": {
        "id": "VJOUkZqvFUSK"
      },
      "execution_count": 4,
      "outputs": []
    },
    {
      "cell_type": "markdown",
      "source": [
        "### Binominal Tree Slow"
      ],
      "metadata": {
        "id": "xjfbM8aCHXTh"
      }
    },
    {
      "cell_type": "code",
      "source": [
        "def binominal_tree_slow(S0, K, T, r, N, u, d, opttype='C'):\n",
        "    # Precompute values\n",
        "    dt = T / N\n",
        "    q = (np.exp(r * dt) - d) / (u - d)\n",
        "    disc = np.exp(-r * dt)\n",
        "\n",
        "    # Initialize asset prices at maturity\n",
        "    S = np.zeros(N+1)\n",
        "    S[0] = S0*d**N\n",
        "    for i in range(1, N+1):\n",
        "      S[i] = S[i-1]*u/d\n",
        "\n",
        "    # Initialize the option values at maturity\n",
        "    C = np.zeros(N+1)\n",
        "    for j in range(0, N+1):\n",
        "      C[j] = max(0, S[j]-K)\n",
        "\n",
        "    # Step backwards through the tree\n",
        "    for w in np.arange(N, 0, -1):\n",
        "      for r in np.arange(0, w):\n",
        "        C[r] = disc * (q * C[r+1] + (1-q) * C[r])\n",
        "\n",
        "\n",
        "    return C[0]"
      ],
      "metadata": {
        "id": "egB-0L1GHRze"
      },
      "execution_count": 5,
      "outputs": []
    },
    {
      "cell_type": "code",
      "source": [
        "binominal_tree_slow(S0, K, T, r, N, u, d, opttype)"
      ],
      "metadata": {
        "colab": {
          "base_uri": "https://localhost:8080/"
        },
        "id": "TjaQufs4KDU7",
        "outputId": "dd779278-e386-4d0b-fac6-4598cbdb6cda"
      },
      "execution_count": 6,
      "outputs": [
        {
          "output_type": "execute_result",
          "data": {
            "text/plain": [
              "10.145735799928817"
            ]
          },
          "metadata": {},
          "execution_count": 6
        }
      ]
    },
    {
      "cell_type": "markdown",
      "source": [
        "### Binominal Tree Fast"
      ],
      "metadata": {
        "id": "Ttk__q39KX7K"
      }
    },
    {
      "cell_type": "code",
      "source": [
        "def binominal_tree_fast(S0, K, T, r, N, u, d, opttype='C'):\n",
        "    dt = T / N\n",
        "    q = (np.exp(r * dt) - d) / (u - d)\n",
        "    disc = np.exp(-r * dt)\n",
        "\n",
        "    # Initialize asset prices at maturity\n",
        "    C = S0 * d ** (np.arange(N, -1, -1)) * u ** (np.arange(0, N+1, 1))\n",
        "\n",
        "    # Payoff function\n",
        "    C = np.maximum(C-K, np.zeros(N+1))\n",
        "\n",
        "    # Step backwards through the tree\n",
        "    for w in np.arange(N, 0, -1):\n",
        "      C = disc * (q * C[1:w+1] + (1-q) * C[0:w])\n",
        "\n",
        "    return C[0]"
      ],
      "metadata": {
        "id": "89sbCTCSKXGZ"
      },
      "execution_count": 7,
      "outputs": []
    },
    {
      "cell_type": "code",
      "source": [
        "binominal_tree_fast(S0, K, T, r, N, u, d, opttype)"
      ],
      "metadata": {
        "colab": {
          "base_uri": "https://localhost:8080/"
        },
        "id": "qNMsMOKuLz7x",
        "outputId": "53b5e202-ef80-469c-fe59-53e86aba65f1"
      },
      "execution_count": 8,
      "outputs": [
        {
          "output_type": "execute_result",
          "data": {
            "text/plain": [
              "10.145735799928826"
            ]
          },
          "metadata": {},
          "execution_count": 8
        }
      ]
    },
    {
      "cell_type": "markdown",
      "source": [
        "By using both the fast and slow binominal method we can compute the strike price in two different ways. As we increase the number of nodes, we will see that the slow model will perform much worse which points towards that one should vectorize."
      ],
      "metadata": {
        "id": "5LSdjQiAMLD_"
      }
    }
  ]
}